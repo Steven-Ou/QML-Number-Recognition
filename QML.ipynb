{
 "cells": [
  {
   "cell_type": "code",
   "execution_count": 2,
   "id": "fe449f33",
   "metadata": {},
   "outputs": [],
   "source": [
    "#Quantum Neural Network for MNIST Classification (0 vs 1)\n",
    "# All the imports that would be needed for the code to run!\n",
    "# Import PennyLane (Quantum library) and its NumPy version\n",
    "import pennylane as qml\n",
    "from pennylane import numpy as np\n",
    "# Import PyTorch for machine learning utilities\n",
    "import torch \n",
    "import torchvision \n",
    "from torchvision import transforms \n",
    "from torch.utils.data import DataLoader, Subset\n",
    "#-----------------------------\n"
   ]
  },
  {
   "cell_type": "code",
   "execution_count": 3,
   "id": "0d7d5326",
   "metadata": {},
   "outputs": [],
   "source": [
    "# ----------------------------\n",
    "# Data Loading and Preprocessing\n",
    "# ----------------------------\n",
    "#Load MNIST and reduce to digits 0 and 1\n",
    "#Define a transformation: convert images to tensors and normalize pixel values to [-1, 1]\n",
    "transform = transforms.Compose([transforms.ToTensor(), transforms.Normalize((0.5,), (0.5,))])\n",
    "train_data = torchvision.datasets.MNIST(root='./data', train=True, download=True, transform=transform)\n",
    "test_data = torchvision.datasets.MNIST(root='./data', train=False, download=True, transform=transform)\n",
    "#-----------------------------"
   ]
  },
  {
   "cell_type": "code",
   "execution_count": 4,
   "id": "5df4e086",
   "metadata": {},
   "outputs": [],
   "source": [
    "#Filter digits 0 and 1 only\n",
    "# Create a function to filter the dataset\n",
    "# This function filters the dataset to keep only samples with labels 0 or 1\n",
    "def filter_digits(dataset):\n",
    "    idx = (dataset.targets ==0) | (dataset.targets ==1)\n",
    "    # Keep samples where label is 0 or 1\n",
    "    dataset.targets = dataset.targets[idx]\n",
    "    return dataset\n",
    "train_data = filter_digits(train_data)\n",
    "test_data = filter_digits(test_data)\n",
    "#----------------------------"
   ]
  },
  {
   "cell_type": "code",
   "execution_count": 5,
   "id": "abd54bf2",
   "metadata": {},
   "outputs": [],
   "source": [
    "#Downsample images to 4x4 = 16 pixels (for 4 qubits)\n",
    "#(Since using 4 qubits, each qubit gets 1 feature)\n",
    "#Downsample function to reduce the image size\n",
    "def downsample(img):\n",
    "    img = img.unsqueeze(0).unsqueeze(0).float()# (1, 1, 28, 28)\n",
    "    downsampled = torch.nn.functional.interpolate(#Downsample the image\n",
    "        img, \n",
    "        size=(4, 4),\n",
    "        mode='bilinear',\n",
    "        align_corners=False\n",
    "    )\n",
    "    return downsampled.squeeze()  # back to (4, 4)\n",
    "\n",
    "\n",
    "# Create a custom dataset to prepare quantum-friendly input\n",
    "class QuantumMNISTDataset(torch.utils.data.Dataset):\n",
    "    def __init__(self, dataset):\n",
    "        # Save data as a list of (image, label) pairs after filtering\n",
    "        self.data = [(img, label) for img, label in zip(dataset.data, dataset.targets)]\n",
    "    def __len__(self):\n",
    "        return len(self.data)\n",
    "    def __getitem__(self, idx):\n",
    "        img, label = self.data[idx]\n",
    "        features = downsample(img).numpy().flatten()[:4] # 4 features for 4 qubits\n",
    "        features = features / np.linalg.norm(features)#Normalize feature vector\n",
    "        return features, label\n",
    "batch_size = 10 # giving a batch size of 10\n",
    "\n",
    "#Create data loaders for training and testing\n",
    "train_loader = DataLoader(QuantumMNISTDataset(train_data), batch_size=batch_size, shuffle=True)\n",
    "test_loader = DataLoader(QuantumMNISTDataset(test_data), batch_size=batch_size)\n",
    "\n",
    "#-----------------------------"
   ]
  },
  {
   "cell_type": "code",
   "execution_count": 6,
   "id": "bfc50e61",
   "metadata": {},
   "outputs": [],
   "source": [
    "# ----------------------------\n",
    "# Quantum Circuit Definition\n",
    "# ----------------------------\n",
    "# This is the quantum circuit that will be used for classification\n",
    "# Set the number of qubits\n",
    "n_qubits = 4 #Setting the number of qubits\n",
    "# Initialize a quantum device (simulator)\n",
    "dev = qml.device(\"default.qubit\", wires=n_qubits)\n",
    "# Encode classical input into quantum states using rotations\n",
    "def angle_embedding(x):\n",
    "    for i in range(n_qubits):\n",
    "        qml.RY(x[i],wires=i) #Apply rotation around Y-axis\n",
    "#Variational quantum layer (parameterized by weights)\n",
    "def variational_block(weights):\n",
    "    for i in range(n_qubits):\n",
    "        qml.Rot(*weights[i], wires=i)  # Apply rotation with 3 parameters (X, Y, Z)\n",
    "    for i in range(n_qubits - 1):\n",
    "        qml.CNOT(wires=[i, i + 1])      # Add entanglement between neighboring qubits\n",
    "# Define the full quantum node (circuit + measurements)\n",
    "@qml.qnode(dev, interface=\"torch\") #This is a quantum node\n",
    "def quantum_net(inputs,weights):\n",
    "    angle_embedding(inputs) #Embed features into quantum state\n",
    "    variational_block(weights) #Apply learnable quantum layer\n",
    "    return qml.expval(qml.PauliZ(0)) # Measure expectation value of PauliZ on first qubit\n",
    "# ----------------------------"
   ]
  },
  {
   "cell_type": "code",
   "execution_count": 7,
   "id": "aa892907",
   "metadata": {},
   "outputs": [],
   "source": [
    "# ----------------------------\n",
    "# Defining the Full Quantum Neural Network in PyTorch\n",
    "# ----------------------------\n",
    "#Define the quantum neural network (QNN) class\n",
    "#This class inherits from torch.nn.Module\n",
    "#This class is a PyTorch module\n",
    "class QNet(torch.nn.Module): #This is a PyTorch module\n",
    "    def __init__(self): #Initialize the module with parameters\n",
    "        super().__init__()# Call the parent constructor\n",
    "        #Initialize the weights for the quantum circuit\n",
    "        #The weights are the parameters of the quantum circuit\n",
    "        weight_shapes = (n_qubits, 3)  # 3 parameters (angles) per qubit\n",
    "        self.q_params = torch.nn.Parameter(torch.randn(weight_shapes) * 0.01) \n",
    "         #self.q_params is a learnable parameter\n",
    "    def forward(self, x): #Forward pass through the quantum circuit\n",
    "       #Apply quantum_net to each input separately and stack results\n",
    "       return torch.stack(\n",
    "            [quantum_net(x[i], self.q_params) \n",
    "            for i in range(x.shape[0])]\n",
    "        ) \n",
    "    #Stack the outputs of the quantum circuit\n"
   ]
  },
  {
   "cell_type": "code",
   "execution_count": null,
   "id": "bc7b20e9",
   "metadata": {},
   "outputs": [
    {
     "name": "stderr",
     "output_type": "stream",
     "text": [
      "/var/folders/zl/nb5s67cs451bsnbcgpz9fsgc0000gn/T/ipykernel_7466/2418914208.py:25: RuntimeWarning: invalid value encountered in divide\n",
      "  features = features / np.linalg.norm(features)#Normalize feature vector\n"
     ]
    }
   ],
   "source": [
    "# ----------------------------\n",
    "# Model Training\n",
    "# ----------------------------\n",
    "#Defining the model, loss function, and optimizer\n",
    "#Instantiate the model\n",
    "model = QNet()\n",
    "#Set up optimizer (Adam) and loss function (binary classification loss)\n",
    "optimizer = torch.optim.Adam(model.parameters(),lr=0.1)\n",
    "#Learning rate is set to 0.1\n",
    "loss_fn = torch.nn.BCEWithLogitsLoss() #Binary Cross-Entropy with logits\n",
    "#Number of epochs for training\n",
    "epochs = 5\n",
    "#Training loop\n",
    "# Initialize loss history to store loss values for each epoch\n",
    "loss_history = []\n",
    "\n",
    "# Training loop\n",
    "for epoch in range(epochs):\n",
    "    model.train()  # Ensure model is in training mode\n",
    "    for x_batch, y_batch in train_loader:\n",
    "        y_batch = y_batch.float()  # Convert labels to float\n",
    "        preds = model(x_batch)  # Get predictions from the model\n",
    "        loss = loss_fn(preds.squeeze(), y_batch)  # Calculate loss\n",
    "        optimizer.zero_grad()  # Reset gradients\n",
    "        loss.backward()  # Backpropagation\n",
    "        optimizer.step()  # Update parameters\n",
    "\n",
    "    # Append the loss for this epoch to the loss history\n",
    "    loss_history.append(loss.item())\n",
    "\n",
    "    print(f\"Epoch {epoch + 1}, Loss= {loss.item():.4f}\")  # Print loss for each epoch\n",
    "\n",
    "# After training, plot the loss over epochs\n",
    "import matplotlib.pyplot as plt\n",
    "\n",
    "# Plot training loss over epochs\n",
    "plt.plot(range(1, epochs + 1), loss_history, marker='o')\n",
    "plt.xlabel(\"Epoch\")\n",
    "plt.ylabel(\"Loss\")\n",
    "plt.title(\"Training Loss over Epochs\")\n",
    "plt.grid(True)\n",
    "plt.show()\n"
   ]
  },
  {
   "cell_type": "code",
   "execution_count": 9,
   "id": "377fb4ae",
   "metadata": {},
   "outputs": [
    {
     "name": "stderr",
     "output_type": "stream",
     "text": [
      "/var/folders/zl/nb5s67cs451bsnbcgpz9fsgc0000gn/T/ipykernel_7466/2418914208.py:25: RuntimeWarning: invalid value encountered in divide\n",
      "  features = features / np.linalg.norm(features)#Normalize feature vector\n"
     ]
    },
    {
     "name": "stdout",
     "output_type": "stream",
     "text": [
      "Test Accuracy: 46.34%\n"
     ]
    }
   ],
   "source": [
    "# ----------------------------\n",
    "# Model Evaluation (Testing)\n",
    "# ----------------------------\n",
    "\n",
    "correct = 0\n",
    "total = 0\n",
    "# Disable gradient calculations for testing\n",
    "with torch.no_grad(): # Disable gradient calculations\n",
    "    for x_batch, y_batch in test_loader: #Iterate over test data\n",
    "        outputs = model(x_batch).squeeze() #Get model outputs \n",
    "        # Apply sigmoid activation function to outputs\n",
    "        # Convert outputs to binary predictions (0 or 1)\n",
    "        predicted = (torch.sigmoid(outputs) > 0.5).int()  \n",
    "        # Apply sigmoid then threshold at 0.5 \n",
    "        correct += (predicted == y_batch).sum().item()   \n",
    "        # Count correct predictions\n",
    "        total += y_batch.size(0)    # Total number of samples\n",
    "#Print final accuracy \n",
    "print(f\"Test Accuracy: {correct/total:.2%}\")\n"
   ]
  },
  {
   "cell_type": "code",
   "execution_count": 11,
   "id": "ef42f2d5",
   "metadata": {},
   "outputs": [
    {
     "name": "stderr",
     "output_type": "stream",
     "text": [
      "/var/folders/zl/nb5s67cs451bsnbcgpz9fsgc0000gn/T/ipykernel_7466/2418914208.py:25: RuntimeWarning: invalid value encountered in divide\n",
      "  features = features / np.linalg.norm(features)#Normalize feature vector\n"
     ]
    },
    {
     "data": {
      "image/png": "[encoded data removed]",
      "text/plain": [
       "<Figure size 640x480 with 1 Axes>"
      ]
     },
     "metadata": {},
     "output_type": "display_data"
    },
    {
     "data": {
      "image/png": "[encoded data removed]",
      "text/plain": [
       "<Figure size 640x480 with 1 Axes>"
      ]
     },
     "metadata": {},
     "output_type": "display_data"
    },
    {
     "data": {
      "image/png": "[encoded data removed]",
      "text/plain": [
       "<Figure size 640x480 with 1 Axes>"
      ]
     },
     "metadata": {},
     "output_type": "display_data"
    },
    {
     "data": {
      "image/png": "[encoded data removed]",
      "text/plain": [
       "<Figure size 640x480 with 1 Axes>"
      ]
     },
     "metadata": {},
     "output_type": "display_data"
    },
    {
     "data": {
      "image/png": "[encoded data removed]",
      "text/plain": [
       "<Figure size 640x480 with 1 Axes>"
      ]
     },
     "metadata": {},
     "output_type": "display_data"
    },
    {
     "data": {
      "image/png": "[encoded data removed]",
      "text/plain": [
       "<Figure size 640x480 with 1 Axes>"
      ]
     },
     "metadata": {},
     "output_type": "display_data"
    },
    {
     "data": {
      "image/png": "[encoded data removed]",
      "text/plain": [
       "<Figure size 640x480 with 1 Axes>"
      ]
     },
     "metadata": {},
     "output_type": "display_data"
    },
    {
     "data": {
      "image/png": "[encoded data removed]",
      "text/plain": [
       "<Figure size 640x480 with 1 Axes>"
      ]
     },
     "metadata": {},
     "output_type": "display_data"
    },
    {
     "data": {
      "image/png": "[encoded data removed]",
      "text/plain": [
       "<Figure size 640x480 with 1 Axes>"
      ]
     },
     "metadata": {},
     "output_type": "display_data"
    },
    {
     "data": {
      "image/png": "[encoded data removed]",
      "text/plain": [
       "<Figure size 640x480 with 1 Axes>"
      ]
     },
     "metadata": {},
     "output_type": "display_data"
    }
   ],
   "source": [
    "import matplotlib.pyplot as plt\n",
    "\n",
    "# Show a few test samples with predictions\n",
    "model.eval()  # Set the model to evaluation mode\n",
    "with torch.no_grad():  # Disable gradient calculation for testing\n",
    "    for x_batch, y_batch in test_loader:\n",
    "        outputs = model(x_batch).squeeze()  # Get predictions\n",
    "        preds = (torch.sigmoid(outputs) > 0.5).int()  # Apply sigmoid and threshold\n",
    "\n",
    "        for i in range(len(x_batch)):\n",
    "            img = x_batch[i].numpy()  # Get the features (already 4 elements)\n",
    "            \n",
    "            # Visualize the image as a 2x2 grid\n",
    "            img_2d = img.reshape(2, 2)  # Reshape to a 2x2 grid\n",
    "\n",
    "            plt.imshow(img_2d, cmap='gray')  # Plot as grayscale\n",
    "            plt.title(f\"Label: {int(y_batch[i])}, Predicted: {int(preds[i])}\")\n",
    "            plt.axis('off')  # Remove axes for clarity\n",
    "            plt.show()\n",
    "        \n",
    "        break  # Show only the first batch (for visualization)\n"
   ]
  }
 ],
 "metadata": {
  "kernelspec": {
   "display_name": "base",
   "language": "python",
   "name": "python3"
  },
  "language_info": {
   "codemirror_mode": {
    "name": "ipython",
    "version": 3
   },
   "file_extension": ".py",
   "mimetype": "text/x-python",
   "name": "python",
   "nbconvert_exporter": "python",
   "pygments_lexer": "ipython3",
   "version": "3.12.2"
  }
 },
 "nbformat": 4,
 "nbformat_minor": 5
}
