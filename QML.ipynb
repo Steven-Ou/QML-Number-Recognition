{
 "cells": [
  {
   "cell_type": "code",
   "execution_count": null,
   "id": "fe449f33",
   "metadata": {},
   "outputs": [],
   "source": [
    "#Quantum Neural Network for MNIST Classification (0 vs 1)\n",
    "# All the imports that would be needed for the code to run!\n",
    "# Import PennyLane (Quantum library) and its NumPy version\n",
    "import pennylane as qml\n",
    "from pennylane import numpy as np\n",
    "# Import PyTorch for machine learning utilities\n",
    "import torch \n",
    "import torchvision \n",
    "from torchvision import transforms \n",
    "from torch.utils.data import DataLoader, Subset\n",
    "#-----------------------------\n"
   ]
  },
  {
   "cell_type": "code",
   "execution_count": null,
   "id": "0d7d5326",
   "metadata": {},
   "outputs": [],
   "source": [
    "# ----------------------------\n",
    "# Data Loading and Preprocessing\n",
    "# ----------------------------\n",
    "#Load MNIST and reduce to digits 0 and 1\n",
    "#Define a transformation: convert images to tensors and normalize pixel values to [-1, 1]\n",
    "transform = transforms.Compose([transforms.ToTensor(), transforms.Normalize((0.5,), (0.5,))])\n",
    "train_data = torchvision.datasets.MNIST(root='./data', train=True, download=True, transform=transform)\n",
    "test_data = torchvision.datasets.MNIST(root='./data', train=False, download=True, transform=transform)\n",
    "#-----------------------------"
   ]
  },
  {
   "cell_type": "code",
   "execution_count": null,
   "id": "5df4e086",
   "metadata": {},
   "outputs": [],
   "source": [
    "#Filter digits 0 and 1 only\n",
    "def filter_digits(dataset):\n",
    "    idx = (dataset.targets ==0) | (dataset.targets ==1)\n",
    "    # Keep samples where label is 0 or 1\n",
    "    dataset.targets = dataset.targets[idx]\n",
    "    return dataset\n",
    "train_data = filter_digits(train_data)\n",
    "test_data = filter_digits(test_data)\n",
    "#----------------------------"
   ]
  },
  {
   "cell_type": "code",
   "execution_count": null,
   "id": "abd54bf2",
   "metadata": {},
   "outputs": [],
   "source": [
    "#Downsample images to 4x4 = 16 pixels (for 4 qubits)\n",
    "# (Since using 4 qubits, each qubit gets 1 feature)\n",
    "def downsample(img):\n",
    "    return torch.nn.functional.interpolate(\n",
    "        img.unsqueeze(0), \n",
    "        size=(4,4).view(-1)\n",
    "    )\n",
    "\n",
    "#Creating a custom dataset to prepare quantum-friendly inputs\n",
    "class QuantumMNISTDataset(torch.utils.data.Dataset):\n",
    "    def __init__(self,dataset):\n",
    "        self.data = dataset \n",
    "    def __len__(self):\n",
    "        return len(self.data)\n",
    "    def __getitem__(self, idx):\n",
    "        img, label = self.data[idx]\n",
    "        features = downsample(img).numpy() #Downsample the image \n",
    "        features = features / np.linalg.norm(features) #Normalize the feature vector\n",
    "        return features, label \n",
    "batch_size = 10 # giving a batch size of 10\n",
    "#-----------------------------"
   ]
  },
  {
   "cell_type": "code",
   "execution_count": null,
   "id": "bfc50e61",
   "metadata": {},
   "outputs": [],
   "source": [
    "# ----------------------------\n",
    "# Quantum Circuit Definition\n",
    "# ----------------------------\n",
    "#Quantum Circuit Parameters\n",
    "# Set the number of qubits\n",
    "n_qubits = 4 #Setting the number of qubits\n",
    "# Initialize a quantum device (simulator)\n",
    "dev = qml.device(\"default.qubit\", wires=n_qubits)\n",
    "# Encode classical input into quantum states using rotations\n",
    "def angle_embedding(x):\n",
    "    for i in range(n_qubits):\n",
    "        qml.RY(x[i],wires=i) #Apply rotation around Y-axis\n",
    "#Variational quantum layer (parameterized by weights)\n",
    "def variational_block(weights):\n",
    "    for i in range(n_qubits):\n",
    "        qml.Rot(*weights[i], wires=i)  # Apply rotation with 3 parameters (X, Y, Z)\n",
    "    for i in range(n_qubits - 1):\n",
    "        qml.CNOT(wires=[i, i + 1])      # Add entanglement between neighboring qubits\n",
    "# Define the full quantum node (circuit + measurements)\n",
    "@qml.qnode(dev, interface=\"torch\") #This is a quantum node\n",
    "def quantum_net(inputs,weights):\n",
    "    angle_embedding(inputs) #Embed features into quantum state\n",
    "    variational_block(weights) #Apply learnable quantum layer\n",
    "    return qml.expval(qml.PauliZ(0)) # Measure expectation value of PauliZ on first qubit\n",
    "# ----------------------------"
   ]
  },
  {
   "cell_type": "code",
   "execution_count": null,
   "id": "aa892907",
   "metadata": {},
   "outputs": [],
   "source": [
    "# ----------------------------\n",
    "# Defining the Full Quantum Neural Network in PyTorch\n",
    "# ----------------------------\n",
    "#Define Torch Layer\n",
    "class QNet(torch.nn.Module): #This is a PyTorch module\n",
    "    def __init__(self): #Initialize the module with parameters\n",
    "        super().__init__()# Call the parent constructor\n",
    "        #Initialize the weights for the quantum circuit\n",
    "        #The weights are the parameters of the quantum circuit\n",
    "        weight_shapes = (n_qubits, 3)  # 3 parameters (angles) per qubit\n",
    "        self.q_params = torch.nn.Parameter(torch.randn(weight_shapes) * 0.01) \n",
    "         #self.q_params is a learnable parameter\n",
    "    def forward(self, x): #Forward pass through the quantum circuit\n",
    "       #Apply quantum_net to each input separately and stack results\n",
    "       return torch.stack(\n",
    "            [quantum_net(x[i], self.q_params) \n",
    "            for i in range(x.shape[0])]\n",
    "        ) \n",
    "    #Stack the outputs of the quantum circuit\n"
   ]
  },
  {
   "cell_type": "code",
   "execution_count": null,
   "id": "bc7b20e9",
   "metadata": {},
   "outputs": [],
   "source": [
    "# ----------------------------\n",
    "# Model Training\n",
    "# ----------------------------\n",
    "#Defining the model, loss function, and optimizer"
   ]
  },
  {
   "cell_type": "code",
   "execution_count": null,
   "id": "377fb4ae",
   "metadata": {},
   "outputs": [],
   "source": [
    "#Testing"
   ]
  }
 ],
 "metadata": {
  "kernelspec": {
   "display_name": "base",
   "language": "python",
   "name": "python3"
  },
  "language_info": {
   "codemirror_mode": {
    "name": "ipython",
    "version": 3
   },
   "file_extension": ".py",
   "mimetype": "text/x-python",
   "name": "python",
   "nbconvert_exporter": "python",
   "pygments_lexer": "ipython3",
   "version": "3.12.2"
  }
 },
 "nbformat": 4,
 "nbformat_minor": 5
}
