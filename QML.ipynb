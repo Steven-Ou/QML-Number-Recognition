{
 "cells": [
  {
   "cell_type": "code",
   "execution_count": 114,
   "id": "fe449f33",
   "metadata": {},
   "outputs": [],
   "source": [
    "#Quantum Neural Network for MNIST Classification (0 vs 1)\n",
    "# All the imports that would be needed for the code to run!\n",
    "# Import PennyLane (Quantum library) and its NumPy version\n",
    "import pennylane as qml\n",
    "from pennylane import numpy as np\n",
    "# Import PyTorch for machine learning utilities\n",
    "import torch \n",
    "import torchvision \n",
    "from torchvision import transforms \n",
    "from torch.utils.data import DataLoader, Subset\n",
    "#-----------------------------\n"
   ]
  },
  {
   "cell_type": "code",
   "execution_count": 115,
   "id": "04810600",
   "metadata": {},
   "outputs": [],
   "source": [
    "import matplotlib.pyplot as plt\n",
    "\n",
    "# Show 2x2 input image with label + prediction\n",
    "def visualize_input(x_tensor, y_true=None, y_pred=None):\n",
    "    img = x_tensor.squeeze().numpy().reshape(28, 28)\n",
    "    plt.imshow(img, cmap='gray')\n",
    "    title = \"\"\n",
    "    if y_true is not None:\n",
    "        title += f\"Label: {int(y_true)}\"\n",
    "    if y_pred is not None:\n",
    "        title += f\", Predicted: {int(y_pred)}\"\n",
    "    plt.title(title)\n",
    "    plt.axis('off')\n",
    "    plt.show()\n",
    "\n",
    "# Show bar chart of prediction confidence (for binary classification)\n",
    "def plot_binary_probability(output_tensor):\n",
    "    prob = torch.sigmoid(output_tensor).item()\n",
    "    plt.bar([\"Class 0\", \"Class 1\"], [1 - prob, prob], color=['blue', 'orange'])\n",
    "    plt.title(\"Predicted Probabilities\")\n",
    "    plt.ylabel(\"Probability\")\n",
    "    plt.ylim(0, 1.1)\n",
    "    plt.text(0, 1 - prob + 0.02, f\"{1 - prob:.2f}\", ha='center')\n",
    "    plt.text(1, prob + 0.02, f\"{prob:.2f}\", ha='center')\n",
    "    plt.show()\n"
   ]
  },
  {
   "cell_type": "code",
   "execution_count": 116,
   "id": "0d7d5326",
   "metadata": {},
   "outputs": [],
   "source": [
    "# ----------------------------\n",
    "# Data Loading and Preprocessing\n",
    "# ----------------------------\n",
    "#Load MNIST and reduce to digits 0 and 1\n",
    "#Define a transformation: convert images to tensors and normalize pixel values to [-1, 1]\n",
    "transform = transforms.Compose([transforms.ToTensor(), transforms.Normalize((0.5,), (0.5,))])\n",
    "train_data = torchvision.datasets.MNIST(root='./data', train=True, download=True, transform=transform)\n",
    "test_data = torchvision.datasets.MNIST(root='./data', train=False, download=True, transform=transform)\n",
    "#-----------------------------"
   ]
  },
  {
   "cell_type": "code",
   "execution_count": 117,
   "id": "5df4e086",
   "metadata": {},
   "outputs": [],
   "source": [
    "#Filter digits 0 and 1 only\n",
    "# Create a function to filter the dataset\n",
    "# This function filters the dataset to keep only samples with labels 0 or 1\n",
    "def filter_digits(dataset):\n",
    "    idx = (dataset.targets ==0) | (dataset.targets ==1)\n",
    "    # Keep samples where label is 0 or 1\n",
    "    dataset.targets = dataset.targets[idx]\n",
    "    return dataset\n",
    "\n",
    "#----------------------------"
   ]
  },
  {
   "cell_type": "code",
   "execution_count": 118,
   "id": "abd54bf2",
   "metadata": {},
   "outputs": [],
   "source": [
    "train_data = filter_digits(train_data)\n",
    "test_data = filter_digits(test_data)\n",
    "#Downsample images to 4x4 = 16 pixels (for 4 qubits)\n",
    "#(Since using 4 qubits, each qubit gets 1 feature)\n",
    "#Downsample function to reduce the image size\n",
    "def downsample(img):\n",
    "    img = img.unsqueeze(0).unsqueeze(0).float()# (1, 1, 28, 28)\n",
    "    downsampled = torch.nn.functional.interpolate(#Downsample the image\n",
    "        img, \n",
    "        size=(4, 4),\n",
    "        mode='bilinear',\n",
    "        align_corners=False\n",
    "    )\n",
    "    return downsampled.squeeze()  # back to (4, 4)\n",
    "\n",
    "\n",
    "# Create a custom dataset to prepare quantum-friendly input\n",
    "class QuantumMNISTDataset(torch.utils.data.Dataset):\n",
    "    def __init__(self, dataset):\n",
    "        # Save data as a list of (image, label) pairs after filtering\n",
    "        self.data = [(img, label) for img, label in zip(dataset.data, dataset.targets)]\n",
    "    def __len__(self):\n",
    "        return len(self.data)\n",
    "    def __getitem__(self, idx):\n",
    "        img, label = self.data[idx]\n",
    "        img = img.float()  # Convert Byte tensor to Float\n",
    "        # If your image is loaded as (28, 28) already, you can proceed.\n",
    "        # If it comes with a channel dimension (e.g. (1, 28, 28)), remove it:\n",
    "        if img.ndim == 3:\n",
    "            img = img.squeeze(0)  # Now img is [28, 28]\n",
    "        \n",
    "        # Aggregate each row (you could also try averaging columns)\n",
    "        features = torch.mean(img, dim=1)  # Now features is a vector of length 28\n",
    "        \n",
    "        # Normalize the feature vector\n",
    "        features = features / (torch.norm(features) + 1e-10)\n",
    "        return features, label\n",
    "batch_size = 10 # giving a batch size of 10\n",
    "\n",
    "#Create data loaders for training and testing\n",
    "train_loader = DataLoader(QuantumMNISTDataset(train_data), batch_size=batch_size, shuffle=True)\n",
    "test_loader = DataLoader(QuantumMNISTDataset(test_data), batch_size=batch_size)\n",
    "\n",
    "#-----------------------------"
   ]
  },
  {
   "cell_type": "code",
   "execution_count": 119,
   "id": "bfc50e61",
   "metadata": {},
   "outputs": [],
   "source": [
    "# ----------------------------\n",
    "# Quantum Circuit Definition\n",
    "# ----------------------------\n",
    "# This is the quantum circuit that will be used for classification\n",
    "# Set the number of qubits\n",
    "n_qubits = 28 #Setting the number of qubits\n",
    "# Initialize a quantum device (simulator)\n",
    "dev = qml.device(\"default.qubit\", wires=n_qubits)\n",
    "# Encode classical input into quantum states using rotations\n",
    "def angle_embedding(x):\n",
    "    for i in range(n_qubits):\n",
    "        qml.RY(x[i],wires=i) #Apply rotation around Y-axis\n",
    "#Variational quantum layer (parameterized by weights)\n",
    "def variational_block(weights):\n",
    "    for i in range(n_qubits):\n",
    "        qml.Rot(*weights[i], wires=i)  # Apply rotation with 3 parameters (X, Y, Z)\n",
    "    for i in range(n_qubits - 1):\n",
    "        qml.CNOT(wires=[i, i + 1])      # Add entanglement between neighboring qubits\n",
    "# Define the full quantum node (circuit + measurements)\n",
    "@qml.qnode(dev, interface=\"torch\")\n",
    "def quantum_net(inputs, weights):\n",
    "    angle_embedding(inputs)    # Embed the 28 features\n",
    "    variational_block(weights)   # Apply the variational layer\n",
    "    return qml.expval(qml.PauliZ(0))  # Return one scalar expectation\n",
    "# ----------------------------"
   ]
  },
  {
   "cell_type": "code",
   "execution_count": 120,
   "id": "aa892907",
   "metadata": {},
   "outputs": [],
   "source": [
    "# ----------------------------\n",
    "# Defining the Full Quantum Neural Network in PyTorch\n",
    "# ----------------------------\n",
    "#Define Torch Layer\n",
    "class QNet(torch.nn.Module): #This is a PyTorch module\n",
    "    def __init__(self): #Initialize the module with parameters\n",
    "        super().__init__()# Call the parent constructor\n",
    "        # Initialize the weights for the quantum circuit\n",
    "        # The weights are the parameters of the quantum circuit\n",
    "        weight_shapes = (n_qubits, 3)  # 3 parameters (angles) per qubit\n",
    "        self.q_params = torch.nn.Parameter(torch.randn(weight_shapes) * 0.01) \n",
    "         # self.q_params is a learnable parameter\n",
    "    def forward(self, x): #Forward pass through the quantum circuit\n",
    " # x is now a batch of vectors, each of length 28.\n",
    "        # For each sample we call the quantum circuit to produce a single scalar.\n",
    "        # The stacking returns a tensor of shape [batch_size]\n",
    "        return torch.stack([quantum_net(x[i], self.q_params) for i in range(x.shape[0])]).squeeze()\n"
   ]
  },
  {
   "cell_type": "code",
   "execution_count": null,
   "id": "bc7b20e9",
   "metadata": {},
   "outputs": [],
   "source": [
    "\n",
    "# Defining the model, loss function, and optimizer\n",
    "model = QNet()  # Instantiate the quantum model\n",
    "\n",
    "# Set up optimizer (Adam) with a learning rate of 0.1\n",
    "optimizer = torch.optim.Adam(model.parameters(), lr=1e-2)  # Or even try 1e-3 if needed\n",
    "\n",
    "# Binary Cross-Entropy with Logits Loss is used for binary classification\n",
    "loss_fn = torch.nn.BCEWithLogitsLoss()\n",
    "\n",
    "# Number of training epochs\n",
    "epochs = 5\n",
    "\n",
    "# Training loop over epochs\n",
    "for epoch in range(epochs):\n",
    "    for x_batch, y_batch in train_loader:\n",
    "        y_batch = y_batch.float()     # Convert labels to float (for BCE Loss)\n",
    "        preds = model(x_batch)   # Forward pass: get predictions from the QNN\n",
    "         # Debugging output to check tensor shapes\n",
    "        print(\"Preds shape:\", preds.shape)  # Should be [batch_size] (e.g., [10])\n",
    "        print(\"y_batch shape:\", y_batch.shape)  # Should also be [batch_size] (e.g., [10])\n",
    "        loss = loss_fn(preds, y_batch)   # Compute loss by comparing predictions and true labels\n",
    "        optimizer.zero_grad()     # Reset gradients before backpropagation\n",
    "        torch.nn.utils.clip_grad_norm_(model.parameters(), max_norm=1.0)  # Sanity check\n",
    "        # Clip gradients to prevent exploding gradients\n",
    "        loss.backward()   # Backward pass: compute gradients\n",
    "        optimizer.step()    # Update model parameters using optimizer\n",
    "    print(f\"Epoch {epoch+1}, Loss= {loss.item():.4f}\")  # Print training loss for each epoch\n"
   ]
  },
  {
   "cell_type": "code",
   "execution_count": null,
   "id": "377fb4ae",
   "metadata": {},
   "outputs": [
    {
     "name": "stdout",
     "output_type": "stream",
     "text": [
      "Test Accuracy: 53.66%\n"
     ]
    }
   ],
   "source": [
    "# ----------------------------\n",
    "# Model Evaluation (Testing)\n",
    "# ----------------------------\n",
    "\n",
    "correct = 0\n",
    "total = 0\n",
    "# Disable gradient calculations for testing\n",
    "with torch.no_grad(): # Disable gradient calculations\n",
    "    for x_batch, y_batch in test_loader: #Iterate over test data\n",
    "        outputs = model(x_batch).squeeze() #Get model outputs \n",
    "        # Apply sigmoid activation function to outputs\n",
    "        # Convert outputs to binary predictions (0 or 1)\n",
    "        predicted = (torch.sigmoid(outputs) > 0.5).int()  \n",
    "        # Apply sigmoid then threshold at 0.5 \n",
    "        correct += (predicted == y_batch).sum().item()   \n",
    "        # Count correct predictions\n",
    "        total += y_batch.size(0)    # Total number of samples\n",
    "#Print final accuracy \n",
    "print(f\"Test Accuracy: {correct/total:.2%}\")\n"
   ]
  },
  {
   "cell_type": "code",
   "execution_count": null,
   "id": "ef42f2d5",
   "metadata": {},
   "outputs": [
    {
     "ename": "ValueError",
     "evalue": "only one element tensors can be converted to Python scalars",
     "output_type": "error",
     "traceback": [
      "\u001b[31m---------------------------------------------------------------------------\u001b[39m",
      "\u001b[31mValueError\u001b[39m                                Traceback (most recent call last)",
      "\u001b[36mCell\u001b[39m\u001b[36m \u001b[39m\u001b[32mIn[110]\u001b[39m\u001b[32m, line 10\u001b[39m\n\u001b[32m      6\u001b[39m preds = (torch.sigmoid(outputs) > \u001b[32m0.5\u001b[39m).int()\n\u001b[32m      8\u001b[39m \u001b[38;5;28;01mfor\u001b[39;00m i \u001b[38;5;129;01min\u001b[39;00m \u001b[38;5;28mrange\u001b[39m(\u001b[38;5;28mlen\u001b[39m(x_batch)):\n\u001b[32m      9\u001b[39m     \u001b[38;5;66;03m# Show input as image\u001b[39;00m\n\u001b[32m---> \u001b[39m\u001b[32m10\u001b[39m     \u001b[43mvisualize_input\u001b[49m\u001b[43m(\u001b[49m\u001b[43mx_batch\u001b[49m\u001b[43m[\u001b[49m\u001b[43mi\u001b[49m\u001b[43m]\u001b[49m\u001b[43m,\u001b[49m\u001b[43m \u001b[49m\u001b[43my_true\u001b[49m\u001b[43m=\u001b[49m\u001b[43my_batch\u001b[49m\u001b[43m[\u001b[49m\u001b[43mi\u001b[49m\u001b[43m]\u001b[49m\u001b[43m,\u001b[49m\u001b[43m \u001b[49m\u001b[43my_pred\u001b[49m\u001b[43m=\u001b[49m\u001b[43mpreds\u001b[49m\u001b[43m[\u001b[49m\u001b[43mi\u001b[49m\u001b[43m]\u001b[49m\u001b[43m)\u001b[49m\n\u001b[32m     12\u001b[39m     \u001b[38;5;66;03m# Show prediction confidence\u001b[39;00m\n\u001b[32m     13\u001b[39m     plot_binary_probability(outputs[i])\n",
      "\u001b[36mCell\u001b[39m\u001b[36m \u001b[39m\u001b[32mIn[103]\u001b[39m\u001b[32m, line 11\u001b[39m, in \u001b[36mvisualize_input\u001b[39m\u001b[34m(x_tensor, y_true, y_pred)\u001b[39m\n\u001b[32m      9\u001b[39m     title += \u001b[33mf\u001b[39m\u001b[33m\"\u001b[39m\u001b[33mLabel: \u001b[39m\u001b[38;5;132;01m{\u001b[39;00m\u001b[38;5;28mint\u001b[39m(y_true)\u001b[38;5;132;01m}\u001b[39;00m\u001b[33m\"\u001b[39m\n\u001b[32m     10\u001b[39m \u001b[38;5;28;01mif\u001b[39;00m y_pred \u001b[38;5;129;01mis\u001b[39;00m \u001b[38;5;129;01mnot\u001b[39;00m \u001b[38;5;28;01mNone\u001b[39;00m:\n\u001b[32m---> \u001b[39m\u001b[32m11\u001b[39m     title += \u001b[33mf\u001b[39m\u001b[33m\"\u001b[39m\u001b[33m, Predicted: \u001b[39m\u001b[38;5;132;01m{\u001b[39;00m\u001b[38;5;28;43mint\u001b[39;49m\u001b[43m(\u001b[49m\u001b[43my_pred\u001b[49m\u001b[43m)\u001b[49m\u001b[38;5;132;01m}\u001b[39;00m\u001b[33m\"\u001b[39m\n\u001b[32m     12\u001b[39m plt.title(title)\n\u001b[32m     13\u001b[39m plt.axis(\u001b[33m'\u001b[39m\u001b[33moff\u001b[39m\u001b[33m'\u001b[39m)\n",
      "\u001b[31mValueError\u001b[39m: only one element tensors can be converted to Python scalars"
     ]
    },
    {
     "data": {
      "image/png": "[encoded data removed]",
      "text/plain": [
       "<Figure size 640x480 with 1 Axes>"
      ]
     },
     "metadata": {},
     "output_type": "display_data"
    }
   ],
   "source": [
    "# Sanity check: visualize inputs and predictions\n",
    "model.eval()  # Set model to evaluation mode\n",
    "with torch.no_grad():  # Turn off gradients\n",
    "    for x_batch, y_batch in test_loader:\n",
    "        outputs = model(x_batch).squeeze()\n",
    "        preds = (torch.sigmoid(outputs) > 0.5).int()\n",
    "\n",
    "        for i in range(len(x_batch)):\n",
    "            # Show input as image\n",
    "            visualize_input(x_batch[i], y_true=y_batch[i], y_pred=preds[i])\n",
    "\n",
    "            # Show prediction confidence\n",
    "            plot_binary_probability(outputs[i])\n",
    "\n",
    "        break  # Only one batch for demo\n"
   ]
  }
 ],
 "metadata": {
  "kernelspec": {
   "display_name": "base",
   "language": "python",
   "name": "python3"
  },
  "language_info": {
   "codemirror_mode": {
    "name": "ipython",
    "version": 3
   },
   "file_extension": ".py",
   "mimetype": "text/x-python",
   "name": "python",
   "nbconvert_exporter": "python",
   "pygments_lexer": "ipython3",
   "version": "3.12.2"
  }
 },
 "nbformat": 4,
 "nbformat_minor": 5
}
