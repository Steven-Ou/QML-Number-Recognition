{
 "cells": [
  {
   "cell_type": "code",
   "execution_count": null,
   "id": "fe449f33",
   "metadata": {},
   "outputs": [],
   "source": [
    "#Quantum Neural Network for MNIST Classification (0 vs 1)\n",
    "# All the imports that would be needed for the code to run!\n",
    "import pennylane as qml\n",
    "from pennylane import numpy as np\n",
    "import torch \n",
    "import torchvision \n",
    "from torchvision import transforms \n",
    "from torch.utils.data import DataLoader, Subset\n",
    "\n"
   ]
  },
  {
   "cell_type": "code",
   "execution_count": null,
   "id": "0d7d5326",
   "metadata": {},
   "outputs": [],
   "source": [
    "#Load MNIST and reduce to digits 0 and 1\n",
    "transform = transforms.Compose([transforms.ToTensor(), transforms.Normalize((0.5,), (0.5,))])\n",
    "train_data = torchvision.datasets.MNIST(root='./data', train=True, download=True, transform=transform)\n",
    "test_data = torchvision.datasets.MNIST(root='./data', train=False, download=True, transform=transform)"
   ]
  },
  {
   "cell_type": "code",
   "execution_count": null,
   "id": "5df4e086",
   "metadata": {},
   "outputs": [],
   "source": [
    "#Filter digits 0 and 1 only\n",
    "def filter_digits(dataset):\n",
    "    idx = (dataset.targets ==0) | (dataset.targets ==1)\n",
    "    dataset.targets = dataset.targets[idx]\n",
    "    return dataset\n",
    "train_data = filter_digits(train_data)\n",
    "test_data = filter_digits(test_data)\n"
   ]
  },
  {
   "cell_type": "code",
   "execution_count": null,
   "id": "abd54bf2",
   "metadata": {},
   "outputs": [],
   "source": [
    "#Downsample images to 4x4 = 16 pixels (for 4 qubits)"
   ]
  },
  {
   "cell_type": "code",
   "execution_count": null,
   "id": "bfc50e61",
   "metadata": {},
   "outputs": [],
   "source": [
    "#Quantum Circuit Parameters"
   ]
  },
  {
   "cell_type": "code",
   "execution_count": null,
   "id": "aa892907",
   "metadata": {},
   "outputs": [],
   "source": [
    "#Define Torch Layer"
   ]
  },
  {
   "cell_type": "code",
   "execution_count": null,
   "id": "bc7b20e9",
   "metadata": {},
   "outputs": [],
   "source": [
    "#Training"
   ]
  },
  {
   "cell_type": "code",
   "execution_count": null,
   "id": "377fb4ae",
   "metadata": {},
   "outputs": [],
   "source": [
    "#Testing"
   ]
  }
 ],
 "metadata": {
  "kernelspec": {
   "display_name": "base",
   "language": "python",
   "name": "python3"
  },
  "language_info": {
   "codemirror_mode": {
    "name": "ipython",
    "version": 3
   },
   "file_extension": ".py",
   "mimetype": "text/x-python",
   "name": "python",
   "nbconvert_exporter": "python",
   "pygments_lexer": "ipython3",
   "version": "3.12.2"
  }
 },
 "nbformat": 4,
 "nbformat_minor": 5
}
