{
 "cells": [
  {
   "cell_type": "code",
   "execution_count": 85,
   "id": "e0819a8e",
   "metadata": {},
   "outputs": [],
   "source": [
    "import pennylane as qml\n",
    "from pennylane import numpy as np\n",
    "import gym\n",
    "\n",
    "n_qubits = 4\n",
    "n_layers = 2\n",
    "# Quantum device\n",
    "dev = qml.device(\"default.qubit\", wires=4)\n",
    "\n",
    "\n"
   ]
  },
  {
   "cell_type": "code",
   "execution_count": 86,
   "id": "7ac6c618",
   "metadata": {},
   "outputs": [],
   "source": [
    "@qml.qnode(dev)\n",
    "def q_net(weights, state):\n",
    "    qml.AngleEmbedding(state, wires=range(n_qubits))\n",
    "    qml.StronglyEntanglingLayers(weights, wires=range(n_qubits))\n",
    "    return qml.probs(wires=range(2))  # 2 actions: 0 or 1\n",
    "\n"
   ]
  },
  {
   "cell_type": "code",
   "execution_count": 87,
   "id": "ad974915",
   "metadata": {},
   "outputs": [],
   "source": [
    "def choose_action(logits):\n",
    "    logits = np.array(logits[:2])  # Use only the first two outputs\n",
    "    e_x = np.exp(logits - np.max(logits))\n",
    "    probs = e_x / e_x.sum()\n",
    "    return np.random.choice(2, p=probs)\n"
   ]
  },
  {
   "cell_type": "code",
   "execution_count": 88,
   "id": "2bab4026",
   "metadata": {},
   "outputs": [],
   "source": [
    "def discount_rewards(rewards, gamma=0.99):\n",
    "    G = 0\n",
    "    discounted = []\n",
    "    for r in reversed(rewards):\n",
    "        G = r + gamma * G\n",
    "        discounted.insert(0, G)\n",
    "    return np.array(discounted)\n",
    "\n"
   ]
  },
  {
   "cell_type": "code",
   "execution_count": 89,
   "id": "ad15bd13",
   "metadata": {},
   "outputs": [],
   "source": [
    "# Initialize\n",
    "weights = np.random.uniform(0, np.pi, (n_layers, n_qubits, 3), requires_grad=True)\n",
    "opt = qml.GradientDescentOptimizer(0.1)\n",
    "env = gym.make(\"CartPole-v1\")\n",
    "episodes = 100\n",
    "\n"
   ]
  },
  {
   "cell_type": "code",
   "execution_count": 90,
   "id": "1c87d2dc",
   "metadata": {},
   "outputs": [],
   "source": [
    "for episode in range(episodes):\n",
    "    state = env.reset()[0]\n",
    "    done = False\n",
    "    episode_states, episode_actions, episode_rewards = [], [], []\n",
    "\n"
   ]
  },
  {
   "cell_type": "code",
   "execution_count": 91,
   "id": "d0047b49",
   "metadata": {},
   "outputs": [],
   "source": [
    "#Hyperparameters & Initialization\n",
    "epsilon = 0.1\n",
    "learning_rate = 0.1\n",
    "gamma = 0.99\n",
    "episodes = 500\n",
    "state_size = env.observation_space.shape[0]\n",
    "action_size = env.action_space.n\n",
    "weights = np.random.uniform(0, np.pi, (4,4, 3))"
   ]
  },
  {
   "cell_type": "code",
   "execution_count": 92,
   "id": "4e2020f6",
   "metadata": {},
   "outputs": [],
   "source": [
    "while not done:\n",
    "        state_q = np.pad(state, (0, n_qubits - len(state)))  # pad to match qubit count\n",
    "        probs = q_net(weights, state_q)\n",
    "        action = choose_action(probs)\n",
    "\n",
    "        next_state, reward, done, _, _ = env.step(action)\n",
    "\n",
    "        episode_states.append(state_q)\n",
    "        episode_actions.append(action)\n",
    "        episode_rewards.append(reward)\n",
    "\n",
    "        state = next_state\n"
   ]
  },
  {
   "cell_type": "code",
   "execution_count": null,
   "id": "bf6de99c",
   "metadata": {},
   "outputs": [],
   "source": []
  },
  {
   "cell_type": "code",
   "execution_count": 94,
   "id": "a6467a80",
   "metadata": {},
   "outputs": [
    {
     "name": "stdout",
     "output_type": "stream",
     "text": [
      "Episode 100: Total reward = 31.0\n"
     ]
    }
   ],
   "source": [
    "# Update weights via policy gradient\n",
    "discounted = discount_rewards(episode_rewards)\n",
    "discounted = (discounted - np.mean(discounted)) / (np.std(discounted) + 1e-9)\n",
    "\n",
    "def cost(w):\n",
    "    loss = 0\n",
    "    for s, a, Gt in zip(episode_states, episode_actions, discounted):\n",
    "        p = q_net(w, s)[a]\n",
    "        loss -= np.log(p + 1e-8) * Gt\n",
    "    return loss\n",
    "weights = opt.step(cost, weights)\n",
    "\n",
    "print(f\"Episode {episode + 1}: Total reward = {sum(episode_rewards)}\")"
   ]
  }
 ],
 "metadata": {
  "kernelspec": {
   "display_name": "base",
   "language": "python",
   "name": "python3"
  },
  "language_info": {
   "codemirror_mode": {
    "name": "ipython",
    "version": 3
   },
   "file_extension": ".py",
   "mimetype": "text/x-python",
   "name": "python",
   "nbconvert_exporter": "python",
   "pygments_lexer": "ipython3",
   "version": "3.12.2"
  }
 },
 "nbformat": 4,
 "nbformat_minor": 5
}
