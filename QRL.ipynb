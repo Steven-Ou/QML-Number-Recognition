{
 "cells": [
  {
   "cell_type": "code",
   "execution_count": 11,
   "id": "e0819a8e",
   "metadata": {},
   "outputs": [],
   "source": [
    "import pennylane as qml\n",
    "from pennylane import numpy as np\n",
    "\n",
    "# Defining the quantum device\n",
    "dev = qml.device(\"default.qubit\", wires=4)\n",
    "\n"
   ]
  },
  {
   "cell_type": "code",
   "execution_count": 12,
   "id": "7ac6c618",
   "metadata": {},
   "outputs": [],
   "source": [
    "#Defining the quantum circuit\n",
    "def quantum_nn(weights,x):\n",
    "    qml.AngleEmbedding(x,wires=range(4),rotation='X')\n",
    "    qml.StronglyEntanglingLayers(weights, wires=range(4))\n",
    "    return qml.expval(qml.PauliZ(0))  \n",
    "# Return the expectation value of the first qubit"
   ]
  },
  {
   "cell_type": "code",
   "execution_count": 13,
   "id": "ad974915",
   "metadata": {},
   "outputs": [],
   "source": [
    "#Define the QNN Function\n",
    "@qml.qnode(dev)\n",
    "def quantum_forward(weights,x):\n",
    "    return quantum_nn(weights,x)"
   ]
  },
  {
   "cell_type": "code",
   "execution_count": 14,
   "id": "2bab4026",
   "metadata": {},
   "outputs": [],
   "source": [
    "#Initializing the weights\n",
    "weights = np.random.uniform(0,np.pi,(4,4,3))\n",
    "# Example input to the quantum circuit (this will be encoded from the state)\n",
    "state = np.array([0.5, -0.5, 0.25, 0.75])"
   ]
  },
  {
   "cell_type": "code",
   "execution_count": 17,
   "id": "ad15bd13",
   "metadata": {},
   "outputs": [
    {
     "name": "stdout",
     "output_type": "stream",
     "text": [
      "-0.3129184087446975\n"
     ]
    }
   ],
   "source": [
    "# Output the Q-value for the given state\n",
    "q_value = quantum_forward(weights, state)\n",
    "print(q_value)"
   ]
  },
  {
   "cell_type": "code",
   "execution_count": 18,
   "id": "1c87d2dc",
   "metadata": {},
   "outputs": [],
   "source": [
    "#Create the CartPole environment\n",
    "import gym \n",
    "env = gym.make('CartPole-v1')"
   ]
  },
  {
   "cell_type": "code",
   "execution_count": 20,
   "id": "d0047b49",
   "metadata": {},
   "outputs": [],
   "source": [
    "#Hyperparameters & Initialization\n",
    "epsilon = 0.1\n",
    "learning_rate = 0.1\n",
    "gamma = 0.99\n",
    "episodes = 500\n",
    "state_size = env.observation_space.shape[0]\n",
    "action_size = env.action_space.n\n",
    "weights = np.random.uniform(0, np.pi, (4, 3))"
   ]
  },
  {
   "cell_type": "code",
   "execution_count": null,
   "id": "4e2020f6",
   "metadata": {},
   "outputs": [],
   "source": [
    "# Loop for episodes\n",
    "for episode in range(episodes):\n",
    "    state = env.reset()[0]\n",
    "    done = False\n",
    "    total_reward = 0"
   ]
  },
  {
   "cell_type": "code",
   "execution_count": null,
   "id": "a6467a80",
   "metadata": {},
   "outputs": [],
   "source": []
  }
 ],
 "metadata": {
  "kernelspec": {
   "display_name": "base",
   "language": "python",
   "name": "python3"
  },
  "language_info": {
   "codemirror_mode": {
    "name": "ipython",
    "version": 3
   },
   "file_extension": ".py",
   "mimetype": "text/x-python",
   "name": "python",
   "nbconvert_exporter": "python",
   "pygments_lexer": "ipython3",
   "version": "3.12.2"
  }
 },
 "nbformat": 4,
 "nbformat_minor": 5
}
