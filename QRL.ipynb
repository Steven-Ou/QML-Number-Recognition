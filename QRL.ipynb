{
 "cells": [
  {
   "cell_type": "code",
   "execution_count": null,
   "id": "e0819a8e",
   "metadata": {},
   "outputs": [],
   "source": [
    "import pennylane as qml\n",
    "from pennylane import numpy as np\n",
    "import gym\n",
    "\n",
    "# Quantum device\n",
    "dev = qml.device(\"default.qubit\", wires=4)\n",
    "\n",
    "\n"
   ]
  },
  {
   "cell_type": "code",
   "execution_count": 50,
   "id": "7ac6c618",
   "metadata": {},
   "outputs": [],
   "source": [
    "#Defining the quantum circuit\n",
    "def quantum_nn(weights, x):\n",
    "    qml.AngleEmbedding(x, wires=range(4))\n",
    "    qml.StronglyEntanglingLayers(weights, wires=range(4))\n",
    "    return [qml.expval(qml.PauliZ(i)) for i in range(4)]  # or however many actions\n",
    "# Return the expectation value of the first qubit"
   ]
  },
  {
   "cell_type": "code",
   "execution_count": 51,
   "id": "ad974915",
   "metadata": {},
   "outputs": [],
   "source": [
    "#Define the QNN Function\n",
    "@qml.qnode(dev)\n",
    "def quantum_forward(weights,x):\n",
    "    return quantum_nn(weights,x)"
   ]
  },
  {
   "cell_type": "code",
   "execution_count": null,
   "id": "2bab4026",
   "metadata": {},
   "outputs": [],
   "source": [
    "\n",
    "# Environment\n",
    "env = gym.make('CartPole-v1')\n",
    "state_size = env.observation_space.shape[0]\n",
    "action_size = env.action_space.n"
   ]
  },
  {
   "cell_type": "code",
   "execution_count": null,
   "id": "ad15bd13",
   "metadata": {},
   "outputs": [
    {
     "name": "stdout",
     "output_type": "stream",
     "text": [
      "[tensor(-0.18159053, requires_grad=True), tensor(0.06803147, requires_grad=True), tensor(0.56981349, requires_grad=True), tensor(-0.31957494, requires_grad=True)]\n"
     ]
    }
   ],
   "source": [
    "# Hyperparameters\n",
    "epsilon = 0.1\n",
    "learning_rate = 0.1\n",
    "gamma = 0.99\n",
    "episodes = 500"
   ]
  },
  {
   "cell_type": "code",
   "execution_count": null,
   "id": "1c87d2dc",
   "metadata": {},
   "outputs": [],
   "source": [
    "\n",
    "# Initialize weights: (layers, wires, params)\n",
    "weights = np.random.uniform(0, np.pi, (4, 4, 3))\n"
   ]
  },
  {
   "cell_type": "code",
   "execution_count": 55,
   "id": "d0047b49",
   "metadata": {},
   "outputs": [],
   "source": [
    "#Hyperparameters & Initialization\n",
    "epsilon = 0.1\n",
    "learning_rate = 0.1\n",
    "gamma = 0.99\n",
    "episodes = 500\n",
    "state_size = env.observation_space.shape[0]\n",
    "action_size = env.action_space.n\n",
    "weights = np.random.uniform(0, np.pi, (4,4, 3))"
   ]
  },
  {
   "cell_type": "code",
   "execution_count": null,
   "id": "4e2020f6",
   "metadata": {},
   "outputs": [],
   "source": [
    "# Training loop\n",
    "for episode in range(episodes):\n",
    "    state, _ = env.reset()\n",
    "    total_reward = 0\n",
    "    done = False\n",
    "\n",
    "    while not done:\n",
    "        # Epsilon-greedy action selection\n",
    "        if np.random.rand() < epsilon:\n",
    "            action = env.action_space.sample()\n",
    "        else:\n",
    "            q_values = quantum_forward(weights, state)\n",
    "            action = int(np.argmax(q_values))\n"
   ]
  },
  {
   "cell_type": "code",
   "execution_count": null,
   "id": "a6467a80",
   "metadata": {},
   "outputs": [],
   "source": [
    "# Loop for each step in the episode\n",
    "while not done: \n",
    "    if np.random.rand() < epsilon:\n",
    "        action = env.action_space.sample()\n",
    "    else:\n",
    "        q_values = quantum_forward(weights, state)\n",
    "        action = np.argmax(q_values)\n"
   ]
  },
  {
   "cell_type": "code",
   "execution_count": null,
   "id": "5a475317",
   "metadata": {},
   "outputs": [],
   "source": [
    "# Q Learning update\n",
    "next_state, reward, done, _, _ = env.step(action)\n",
    "total_reward += reward\n",
    "q_next = max([quantum_forward(weights, next_state) for _ in range(action_size)])\n",
    "q_value = quantum_forward(weights, state)[action]\n",
    "weights -= learning_rate * (reward + gamma * q_next - q_value)\n",
    "state = next_state\n"
   ]
  }
 ],
 "metadata": {
  "kernelspec": {
   "display_name": "base",
   "language": "python",
   "name": "python3"
  },
  "language_info": {
   "codemirror_mode": {
    "name": "ipython",
    "version": 3
   },
   "file_extension": ".py",
   "mimetype": "text/x-python",
   "name": "python",
   "nbconvert_exporter": "python",
   "pygments_lexer": "ipython3",
   "version": "3.12.2"
  }
 },
 "nbformat": 4,
 "nbformat_minor": 5
}
