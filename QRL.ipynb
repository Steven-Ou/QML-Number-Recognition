{
 "cells": [
  {
   "cell_type": "code",
   "execution_count": null,
   "id": "e0819a8e",
   "metadata": {},
   "outputs": [],
   "source": [
    "import pennylane as qml\n",
    "from pennylane import numpy as np\n",
    "\n",
    "# Defining the quantum device\n",
    "dev = qml.device(\"default.qubit\", wires=4)\n",
    "\n"
   ]
  },
  {
   "cell_type": "code",
   "execution_count": null,
   "id": "7ac6c618",
   "metadata": {},
   "outputs": [],
   "source": [
    "#Defining the quantum circuit\n",
    "def quantum_nn(weights,x):\n",
    "    qml.AngleEmbedding(x,wires=range(4),rotation='x')\n",
    "    qml.StronglyEntanglingLayers(weights, wires=range(4))\n",
    "    return qml.expval(qml.PauliZ(0))  # Return the expectation value of the first qubit"
   ]
  }
 ],
 "metadata": {
  "kernelspec": {
   "display_name": "base",
   "language": "python",
   "name": "python3"
  },
  "language_info": {
   "name": "python",
   "version": "3.12.2"
  }
 },
 "nbformat": 4,
 "nbformat_minor": 5
}
