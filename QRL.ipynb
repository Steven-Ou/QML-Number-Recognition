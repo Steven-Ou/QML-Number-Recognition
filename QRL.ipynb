{
 "cells": [
  {
   "cell_type": "code",
   "execution_count": null,
   "id": "e0819a8e",
   "metadata": {},
   "outputs": [],
   "source": [
    "import pennylane as qml\n",
    "from pennylane import numpy as np\n",
    "\n",
    "# Defining the quantum device\n",
    "dev = qml.device(\"default.qubit\", wires=4)\n",
    "\n"
   ]
  },
  {
   "cell_type": "code",
   "execution_count": null,
   "id": "7ac6c618",
   "metadata": {},
   "outputs": [],
   "source": [
    "#Defining the quantum circuit\n",
    "def quantum_nn(weights,x):\n",
    "    qml.AngleEmbedding(x,wires=range(4),rotation='x')\n",
    "    qml.StronglyEntanglingLayers(weights, wires=range(4))\n",
    "    return qml.expval(qml.PauliZ(0))  \n",
    "# Return the expectation value of the first qubit"
   ]
  },
  {
   "cell_type": "code",
   "execution_count": null,
   "id": "ad974915",
   "metadata": {},
   "outputs": [],
   "source": [
    "#Define the QNN Function\n",
    "@qml.qnode(dev)\n",
    "def quantum_forward(weights,x):\n",
    "    return quantum_nn(weights,x)"
   ]
  },
  {
   "cell_type": "code",
   "execution_count": null,
   "id": "2bab4026",
   "metadata": {},
   "outputs": [],
   "source": [
    "#Initializing the weights\n",
    "weights = np.random.uniform(0,np.pi,(4,3))\n",
    "# Example input to the quantum circuit (this will be encoded from the state)\n",
    "state = np.array([0.5, -0.5, 0.25, 0.75])"
   ]
  },
  {
   "cell_type": "code",
   "execution_count": null,
   "id": "ad15bd13",
   "metadata": {},
   "outputs": [],
   "source": [
    "# Output the Q-value for the given state\n",
    "q_value = quantum_forward(weights, state)\n",
    "print(q_value)"
   ]
  }
 ],
 "metadata": {
  "kernelspec": {
   "display_name": "base",
   "language": "python",
   "name": "python3"
  },
  "language_info": {
   "name": "python",
   "version": "3.12.2"
  }
 },
 "nbformat": 4,
 "nbformat_minor": 5
}
