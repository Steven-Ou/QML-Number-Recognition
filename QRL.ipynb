{
 "cells": [
  {
   "cell_type": "code",
   "execution_count": 66,
   "id": "e0819a8e",
   "metadata": {},
   "outputs": [],
   "source": [
    "import pennylane as qml\n",
    "from pennylane import numpy as np\n",
    "import gym\n",
    "\n",
    "n_qubits = 4\n",
    "n_layers = 2\n",
    "# Quantum device\n",
    "dev = qml.device(\"default.qubit\", wires=4)\n",
    "\n",
    "\n"
   ]
  },
  {
   "cell_type": "code",
   "execution_count": 67,
   "id": "7ac6c618",
   "metadata": {},
   "outputs": [],
   "source": [
    "@qml.qnode(dev)\n",
    "def q_net(weights, state):\n",
    "    qml.AngleEmbedding(state, wires=range(n_qubits))\n",
    "    qml.StronglyEntanglingLayers(weights, wires=range(n_qubits))\n",
    "    return qml.probs(wires=range(2))  # 2 actions: 0 or 1\n"
   ]
  },
  {
   "cell_type": "code",
   "execution_count": null,
   "id": "ad974915",
   "metadata": {},
   "outputs": [],
   "source": [
    "# choose action based on probabilities\n",
    "def choose_action(probs):\n",
    "    probs = np.array(probs)\n",
    "    probs = probs / np.sum(probs)  # normalize to sum to 1\n",
    "    return np.random.choice(len(probs), p=probs)"
   ]
  },
  {
   "cell_type": "code",
   "execution_count": 69,
   "id": "2bab4026",
   "metadata": {},
   "outputs": [],
   "source": [
    "def discount_rewards(rewards, gamma=0.99):\n",
    "    G = 0\n",
    "    discounted = []\n",
    "    for r in reversed(rewards):\n",
    "        G = r + gamma * G\n",
    "        discounted.insert(0, G)\n",
    "    return np.array(discounted)\n",
    "\n"
   ]
  },
  {
   "cell_type": "code",
   "execution_count": 70,
   "id": "ad15bd13",
   "metadata": {},
   "outputs": [],
   "source": [
    "# Initialize\n",
    "weights = np.random.uniform(0, np.pi, (n_layers, n_qubits, 3), requires_grad=True)\n",
    "opt = qml.GradientDescentOptimizer(0.1)\n",
    "env = gym.make(\"CartPole-v1\")\n",
    "episodes = 100\n",
    "\n"
   ]
  },
  {
   "cell_type": "code",
   "execution_count": 71,
   "id": "1c87d2dc",
   "metadata": {},
   "outputs": [],
   "source": [
    "for episode in range(episodes):\n",
    "    state = env.reset()[0]\n",
    "    done = False\n",
    "    episode_states, episode_actions, episode_rewards = [], [], []\n",
    "\n"
   ]
  },
  {
   "cell_type": "code",
   "execution_count": 72,
   "id": "d0047b49",
   "metadata": {},
   "outputs": [],
   "source": [
    "#Hyperparameters & Initialization\n",
    "epsilon = 0.1\n",
    "learning_rate = 0.1\n",
    "gamma = 0.99\n",
    "episodes = 500\n",
    "state_size = env.observation_space.shape[0]\n",
    "action_size = env.action_space.n\n",
    "weights = np.random.uniform(0, np.pi, (4,4, 3))"
   ]
  },
  {
   "cell_type": "code",
   "execution_count": 73,
   "id": "4e2020f6",
   "metadata": {},
   "outputs": [
    {
     "ename": "ValueError",
     "evalue": "'a' and 'p' must have same size",
     "output_type": "error",
     "traceback": [
      "\u001b[31m---------------------------------------------------------------------------\u001b[39m",
      "\u001b[31mValueError\u001b[39m                                Traceback (most recent call last)",
      "\u001b[36mCell\u001b[39m\u001b[36m \u001b[39m\u001b[32mIn[73]\u001b[39m\u001b[32m, line 4\u001b[39m\n\u001b[32m      2\u001b[39m state_q = np.pad(state, (\u001b[32m0\u001b[39m, n_qubits - \u001b[38;5;28mlen\u001b[39m(state)))  \u001b[38;5;66;03m# pad to match qubit count\u001b[39;00m\n\u001b[32m      3\u001b[39m probs = q_net(weights, state_q)\n\u001b[32m----> \u001b[39m\u001b[32m4\u001b[39m action = \u001b[43mchoose_action\u001b[49m\u001b[43m(\u001b[49m\u001b[43mprobs\u001b[49m\u001b[43m)\u001b[49m\n\u001b[32m      6\u001b[39m next_state, reward, done, _, _ = env.step(action)\n\u001b[32m      8\u001b[39m episode_states.append(state_q)\n",
      "\u001b[36mCell\u001b[39m\u001b[36m \u001b[39m\u001b[32mIn[68]\u001b[39m\u001b[32m, line 2\u001b[39m, in \u001b[36mchoose_action\u001b[39m\u001b[34m(probs)\u001b[39m\n\u001b[32m      1\u001b[39m \u001b[38;5;28;01mdef\u001b[39;00m\u001b[38;5;250m \u001b[39m\u001b[34mchoose_action\u001b[39m(probs):\n\u001b[32m----> \u001b[39m\u001b[32m2\u001b[39m     \u001b[38;5;28;01mreturn\u001b[39;00m \u001b[43mnp\u001b[49m\u001b[43m.\u001b[49m\u001b[43mrandom\u001b[49m\u001b[43m.\u001b[49m\u001b[43mchoice\u001b[49m\u001b[43m(\u001b[49m\u001b[43m[\u001b[49m\u001b[32;43m0\u001b[39;49m\u001b[43m,\u001b[49m\u001b[43m \u001b[49m\u001b[32;43m1\u001b[39;49m\u001b[43m]\u001b[49m\u001b[43m,\u001b[49m\u001b[43m \u001b[49m\u001b[43mp\u001b[49m\u001b[43m=\u001b[49m\u001b[43mprobs\u001b[49m\u001b[43m)\u001b[49m\n",
      "\u001b[36mFile \u001b[39m\u001b[32m/opt/miniconda3/lib/python3.12/site-packages/pennylane/numpy/wrapper.py:117\u001b[39m, in \u001b[36mtensor_wrapper.<locals>._wrapped\u001b[39m\u001b[34m(*args, **kwargs)\u001b[39m\n\u001b[32m    114\u001b[39m         tensor_kwargs[\u001b[33m\"\u001b[39m\u001b[33mrequires_grad\u001b[39m\u001b[33m\"\u001b[39m] = _np.any([i.requires_grad \u001b[38;5;28;01mfor\u001b[39;00m i \u001b[38;5;129;01min\u001b[39;00m tensor_args])\n\u001b[32m    116\u001b[39m \u001b[38;5;66;03m# evaluate the original object\u001b[39;00m\n\u001b[32m--> \u001b[39m\u001b[32m117\u001b[39m res = \u001b[43mobj\u001b[49m\u001b[43m(\u001b[49m\u001b[43m*\u001b[49m\u001b[43margs\u001b[49m\u001b[43m,\u001b[49m\u001b[43m \u001b[49m\u001b[43m*\u001b[49m\u001b[43m*\u001b[49m\u001b[43mkwargs\u001b[49m\u001b[43m)\u001b[49m\n\u001b[32m    119\u001b[39m \u001b[38;5;28;01mif\u001b[39;00m \u001b[38;5;28misinstance\u001b[39m(res, _np.ndarray):\n\u001b[32m    120\u001b[39m     \u001b[38;5;66;03m# only if the output of the object is a ndarray,\u001b[39;00m\n\u001b[32m    121\u001b[39m     \u001b[38;5;66;03m# then convert to a PennyLane tensor\u001b[39;00m\n\u001b[32m    122\u001b[39m     res = tensor(res, **tensor_kwargs)\n",
      "\u001b[36mFile \u001b[39m\u001b[32m/opt/miniconda3/lib/python3.12/site-packages/autograd/tracer.py:48\u001b[39m, in \u001b[36mprimitive.<locals>.f_wrapped\u001b[39m\u001b[34m(*args, **kwargs)\u001b[39m\n\u001b[32m     46\u001b[39m     \u001b[38;5;28;01mreturn\u001b[39;00m new_box(ans, trace, node)\n\u001b[32m     47\u001b[39m \u001b[38;5;28;01melse\u001b[39;00m:\n\u001b[32m---> \u001b[39m\u001b[32m48\u001b[39m     \u001b[38;5;28;01mreturn\u001b[39;00m \u001b[43mf_raw\u001b[49m\u001b[43m(\u001b[49m\u001b[43m*\u001b[49m\u001b[43margs\u001b[49m\u001b[43m,\u001b[49m\u001b[43m \u001b[49m\u001b[43m*\u001b[49m\u001b[43m*\u001b[49m\u001b[43mkwargs\u001b[49m\u001b[43m)\u001b[49m\n",
      "\u001b[36mFile \u001b[39m\u001b[32mnumpy/random/mtrand.pyx:968\u001b[39m, in \u001b[36mnumpy.random.mtrand.RandomState.choice\u001b[39m\u001b[34m()\u001b[39m\n",
      "\u001b[31mValueError\u001b[39m: 'a' and 'p' must have same size"
     ]
    }
   ],
   "source": [
    "while not done:\n",
    "        state_q = np.pad(state, (0, n_qubits - len(state)))  # pad to match qubit count\n",
    "        probs = q_net(weights, state_q)\n",
    "        action = choose_action(probs)\n",
    "\n",
    "        next_state, reward, done, _, _ = env.step(action)\n",
    "\n",
    "        episode_states.append(state_q)\n",
    "        episode_actions.append(action)\n",
    "        episode_rewards.append(reward)\n",
    "\n",
    "        state = next_state\n"
   ]
  },
  {
   "cell_type": "code",
   "execution_count": null,
   "id": "a6467a80",
   "metadata": {},
   "outputs": [],
   "source": [
    "# Update weights via policy gradient\n",
    "    discounted = discount_rewards(episode_rewards)\n",
    "    discounted = (discounted - np.mean(discounted)) / (np.std(discounted) + 1e-9)\n",
    "\n",
    "    def cost(w):\n",
    "        loss = 0\n",
    "        for s, a, Gt in zip(episode_states, episode_actions, discounted):\n",
    "            p = q_net(w, s)[a]\n",
    "            loss -= np.log(p + 1e-8) * Gt\n",
    "        return loss\n",
    "\n",
    "    weights = opt.step(cost, weights)\n",
    "\n",
    "    print(f\"Episode {episode + 1}: Total reward = {sum(episode_rewards)}\")"
   ]
  }
 ],
 "metadata": {
  "kernelspec": {
   "display_name": "base",
   "language": "python",
   "name": "python3"
  },
  "language_info": {
   "codemirror_mode": {
    "name": "ipython",
    "version": 3
   },
   "file_extension": ".py",
   "mimetype": "text/x-python",
   "name": "python",
   "nbconvert_exporter": "python",
   "pygments_lexer": "ipython3",
   "version": "3.12.2"
  }
 },
 "nbformat": 4,
 "nbformat_minor": 5
}
